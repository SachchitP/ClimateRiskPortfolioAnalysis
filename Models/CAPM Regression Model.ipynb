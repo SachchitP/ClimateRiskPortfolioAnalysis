{
  "nbformat": 4,
  "nbformat_minor": 0,
  "metadata": {
    "colab": {
      "name": "DISSO CAPM",
      "version": "0.3.2",
      "provenance": []
    },
    "kernelspec": {
      "name": "python3",
      "display_name": "Python 3"
    }
  },
  "cells": [
    {
      "metadata": {
        "id": "CRZVnehusRqf",
        "colab_type": "code",
        "colab": {}
      },
      "cell_type": "code",
      "source": [
        "import pandas as pd\n",
        "import statsmodels.api as statModel\n",
        "import numpy as np\n",
        "import pandas_datareader.data as pd\n",
        "\n",
        "cocaCola = pd.DataReader('KO',data_source='yahoo',start='01/01/2018',end='30/11/2018')\n",
        "index = pd.DataReader('IMPORT INDEX HERE',data_source='yahoo',start='01/01/2018',end='30/11/2018')\n",
        "\n",
        "# Combine Closing Prices\n",
        "monPrice = pd.concat([cocaCola['Close'], index['Close']], axis=1)\n",
        "monPrice.columns = ['KO', 'IMPORT INDEX HERE']\n",
        "\n",
        "# Find Monthly Returns\n",
        "monthlyReturns = monPrice.pct_change(1)\n",
        "cleanedMonthlyReturns = monthlyReturns.dropna(axis=0) \n",
        "\n",
        "# Dependent and Independent Variables Stored\n",
        "x,y= cleanedMonthlyReturns['^GSPC'],cleanedMonthlyReturns['KO']\n",
        "\n",
        "# Add Constant\n",
        "constantAdd = statModel.add_constant(x)\n",
        "\n",
        "# Run StateModel\n",
        "runStatModel = statModel.OLS(y, constantAdd)\n",
        "\n",
        "# Fit to Model\n",
        "finalModel = runStatModel.fit()\n",
        "print(finalModel.summary())"
      ],
      "execution_count": 0,
      "outputs": []
    }
  ]
}