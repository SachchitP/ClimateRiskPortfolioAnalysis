{
  "nbformat": 4,
  "nbformat_minor": 0,
  "metadata": {
    "colab": {
      "name": "DISSO 2 ",
      "version": "0.3.2",
      "provenance": []
    },
    "kernelspec": {
      "name": "python3",
      "display_name": "Python 3"
    }
  },
  "cells": [
    {
      "metadata": {
        "id": "Z6AZ74dWDCSN",
        "colab_type": "code",
        "colab": {}
      },
      "cell_type": "code",
      "source": [
        "# !pip install fastai==0.7.0 <- will need to run this the first time to get the FASTAI library imported"
      ],
      "execution_count": 0,
      "outputs": []
    },
    {
      "metadata": {
        "id": "c0oOKTA9D4P5",
        "colab_type": "code",
        "colab": {}
      },
      "cell_type": "code",
      "source": [
        "import pandas as pd\n",
        "import numpy as np\n",
        "import matplotlib.pyplot as plt\n",
        "%matplotlib inline\n",
        "from matplotlib.pylab import rcParams\n",
        "rcParams['figure.figsize'] = 20,10\n",
        "from sklearn.preprocessing import MinMaxScaler\n",
        "from google.colab import files\n",
        "from fastai.structured import  add_datepart\n",
        "from sklearn.linear_model import LinearRegression\n",
        "from sklearn import neighbors\n",
        "from sklearn.model_selection import GridSearchCV\n",
        "from sklearn.preprocessing import MinMaxScaler\n",
        "from sklearn.preprocessing import MinMaxScaler\n",
        "from keras.models import Sequential\n",
        "from keras.layers import Dense, Dropout, LSTM"
      ],
      "execution_count": 0,
      "outputs": []
    },
    {
      "metadata": {
        "id": "Fy7PUz0ik4i4",
        "colab_type": "code",
        "colab": {}
      },
      "cell_type": "code",
      "source": [
        "# Import CSV File and Store in DataFrame - Take Data From Quandl\n",
        "uploaded = files.upload()\n",
        "print(str(uploaded))\n",
        "filename = uploaded['EOD-KO (1).csv']\n",
        "import io\n",
        "df = pd.read_csv(io.BytesIO(filename))\n"
      ],
      "execution_count": 0,
      "outputs": []
    },
    {
      "metadata": {
        "id": "xUbD0SnPDRDB",
        "colab_type": "code",
        "colab": {}
      },
      "cell_type": "code",
      "source": [
        "# Set Date To Be Index\n",
        "df['Date'] = pd.to_datetime(df.Date,format='%Y-%m-%d')\n",
        "df.index = df['Date']\n",
        "\n",
        "# Plotting Details\n",
        "plt.figure(figsize=(16,8))\n",
        "plt.plot(df['Close'], label='Close Price history')"
      ],
      "execution_count": 0,
      "outputs": []
    },
    {
      "metadata": {
        "id": "JEi3QnS0I5FF",
        "colab_type": "code",
        "colab": {}
      },
      "cell_type": "code",
      "source": [
        "# Set Date To Be Index\n",
        "df['Date'] = pd.to_datetime(df.Date,format='%Y-%m-%d')\n",
        "df.index = df['Date']\n",
        "\n",
        "# Sort Data In Increasing Order \n",
        "data = df.sort_index(ascending=True, axis=0)\n",
        "\n",
        "# Create a Copy Of The Dataset\n",
        "copiedData = pd.DataFrame(index=range(0,len(df)),columns=['Date', 'Close'])\n",
        "\n",
        "for i in range(0,len(data)):\n",
        "    copiedData['Date'][i],copiedData['Close'][i] = data['Date'][i],data['Close'][i]\n",
        "\n",
        "# Decide on Features\n",
        "add_datepart(copiedData, 'Date')\n",
        "copiedData.drop('Elapsed', axis=1, inplace=True)  #elapsed will be the time stamp\n",
        "\n",
        "copiedData['mon_fri'] = 0\n",
        "for i in range(0,len(copiedData)):\n",
        "    copiedData['mon_fri'][i] = 1 if (copiedData['Dayofweek'][i] == 0 or copiedData['Dayofweek'][i] == 4) else 0\n",
        "\n",
        "# Test and Test Sets\n",
        "train,test  = copiedData[:1000],copiedData[1000:]\n",
        "\n",
        "xTrain,yTrain  = train.drop('Close', axis=1),train['Close']\n",
        "xTest,yTest = test.drop('Close', axis=1),test['Close']\n",
        "\n",
        "# Linear Regression Model \n",
        "from sklearn.linear_model import LinearRegression\n",
        "model = LinearRegression()\n",
        "model.fit(xTrain,yTrain)\n",
        "\n",
        "# Predict Values and Calculate Errors\n",
        "predictedValues = model.predict(xTest)\n",
        "rootMeanSquaredError=np.sqrt(np.mean(np.power((np.array(yTest)-np.array(predictedValues)),2)))\n",
        "rootMeanSquaredError\n",
        "\n",
        "# Plot Results\n",
        "test['Predictions'] = 0\n",
        "test['Predictions'] = predictedValues\n",
        "\n",
        "test.index,train.index = copiedData[1000:].index,copiedData[:1000].index\n",
        "\n",
        "plt.plot(train['Close'])\n",
        "plt.plot(test[['Close', 'Predictions']])\n",
        "plt.title(\"LINEAR REGRESSION MODEL\")"
      ],
      "execution_count": 0,
      "outputs": []
    },
    {
      "metadata": {
        "id": "H2j9nvfcLyLf",
        "colab_type": "code",
        "colab": {}
      },
      "cell_type": "code",
      "source": [
        "scaler = MinMaxScaler(feature_range=(0, 1))\n",
        "\n",
        "# Scale Data\n",
        "xTrain_scaled = scaler.fit_transform(xTrain)\n",
        "xTrain = pd.DataFrame(xTrain_scaled)\n",
        "xTest_scaled = scaler.fit_transform(xTest)\n",
        "xTest = pd.DataFrame(xTest_scaled)\n",
        "\n",
        "# Find Best Parameters For K-NN\n",
        "params = {'n_neighbors':[2,3,4,5,6,7,8,9]}\n",
        "knn = neighbors.KNeighborsRegressor()\n",
        "model = GridSearchCV(knn, params, cv=5)\n",
        "\n",
        "# Predicted Values and rootMeanSquaredErrorE Calculation\n",
        "model.fit(xTrain,yTrain)\n",
        "predictedValues = model.predict(xTest)\n",
        "rootMeanSquaredError=np.sqrt(np.mean(np.power((np.array(yTest)-np.array(predictedValues)),2)))\n",
        "\n",
        "# Plot Graph\n",
        "test['Predictions'] = 0\n",
        "test['Predictions'] = predictedValues\n",
        "plt.plot(train['Close'])\n",
        "plt.plot(test[['Close', 'Predictions']])\n",
        "plt.title(\"KNN MODEL\")"
      ],
      "execution_count": 0,
      "outputs": []
    },
    {
      "metadata": {
        "id": "MmIU0PF9M2Oc",
        "colab_type": "code",
        "colab": {}
      },
      "cell_type": "code",
      "source": [
        "# Store Data in DataFrame Object\n",
        "data = df.sort_index(ascending=True, axis=0)\n",
        "copiedData = pd.DataFrame(index=range(0,len(df)),columns=['Date', 'Close'])\n",
        "for i in range(0,len(data)):\n",
        "    copiedData['Date'][i],copiedData['Close'][i] = data['Date'][i],data['Close'][i]\n",
        "\n",
        "# Change The Index To Use Date\n",
        "copiedData.index = copiedData.Date\n",
        "copiedData.drop('Date', axis=1, inplace=True)\n",
        "\n",
        "# Create Train and Test Sets\n",
        "dataset = copiedData.values\n",
        "\n",
        "train,test = dataset[0:1000,:],dataset[1000:,:]\n",
        "\n",
        "# Scale The Test Sets\n",
        "scaler = MinMaxScaler(feature_range=(0, 1))\n",
        "scaled_data = scaler.fit_transform(dataset)\n",
        "\n",
        "xTrain, yTrain = [], []\n",
        "for i in range(60,len(train)):\n",
        "    xTrain.append(scaled_data[i-60:i,0])\n",
        "    yTrain.append(scaled_data[i,0])\n",
        "    \n",
        "xTrain, yTrain = np.array(xTrain), np.array(yTrain)\n",
        "xTrain = np.reshape(xTrain, (xTrain.shape[0],xTrain.shape[1],1))\n",
        "\n",
        "# Run LSTM Model on Fitted Data\n",
        "model = Sequential()\n",
        "model.add(LSTM(units=50, return_sequences=True, input_shape=(xTrain.shape[1],1)))\n",
        "model.add(LSTM(units=50))\n",
        "model.add(Dense(1))\n",
        "model.compile(loss='mean_squared_error', optimizer='adam')\n",
        "model.fit(xTrain, yTrain, epochs=1, batch_size=1, verbose=2)\n",
        "\n",
        "# Use Last 60 Days of Data to Predict Next 240 Data Points\n",
        "inputs = copiedData[len(copiedData) - len(test) - 60:].values\n",
        "inputs = inputs.reshape(-1,1)\n",
        "inputs  = scaler.transform(inputs)\n",
        "\n",
        "xTest = []\n",
        "\n",
        "for i in range(60,inputs.shape[0]):\n",
        "    xTest.append(inputs[i-60:i,0])\n",
        "\n",
        "xTest = np.array(xTest)\n",
        "xTest = np.reshape(xTest, (xTest.shape[0],xTest.shape[1],1))\n",
        "\n",
        "closingPrice = model.predict(xTest)\n",
        "closingPrice = scaler.inverse_transform(closingPrice)\n",
        "\n",
        "rootMeanSquaredError=np.sqrt(np.mean(np.power((test-closingPrice),2)))\n",
        "\n",
        "# Plot Graph\n",
        "train = copiedData[:1000]\n",
        "test = copiedData[1000:]\n",
        "test['Predictions'] = closingPrice\n",
        "plt.plot(train['Close'])\n",
        "plt.plot(test[['Close','Predictions']])\n",
        "plt.title(\"LSTM MODEL\")"
      ],
      "execution_count": 0,
      "outputs": []
    }
  ]
}