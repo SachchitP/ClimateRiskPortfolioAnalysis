{
  "nbformat": 4,
  "nbformat_minor": 0,
  "metadata": {
    "colab": {
      "name": "DISSO CAPM",
      "version": "0.3.2",
      "provenance": []
    },
    "kernelspec": {
      "name": "python3",
      "display_name": "Python 3"
    }
  },
  "cells": [
    {
      "metadata": {
        "id": "CRZVnehusRqf",
        "colab_type": "code",
        "colab": {}
      },
      "cell_type": "code",
      "source": [
        "import pandas as pd\n",
        "import statsmodels.api as sm\n",
        "import numpy as np\n",
        "import pandas_datareader.data as web\n",
        "import matplotlib.pyplot as plt\n",
        "\n",
        "bp = web.DataReader('KO',data_source='yahoo',start='01/01/2018',end='30/11/2018')\n",
        "sp_500 = web.DataReader('^GSPC',data_source='yahoo',start='01/01/2018',end='30/11/2018')\n",
        "\n",
        "# Combine Closing Prices\n",
        "monthly_prices = pd.concat([bp['Close'], sp_500['Close']], axis=1)\n",
        "monthly_prices.columns = ['KO', '^GSPC']\n",
        "\n",
        "# Find Monthly Returns\n",
        "monthlyReturns = monthly_prices.pct_change(1)\n",
        "cleanedMonthlyReturns = monthlyReturns.dropna(axis=0) \n",
        "\n",
        "# Dependent and Independent Variables Stored\n",
        "x,y= cleanedMonthlyReturns['^GSPC'],cleanedMonthlyReturns['KO']\n",
        "\n",
        "# Add Constant\n",
        "constantAdd = sm.add_constant(x)\n",
        "\n",
        "# Run OLS Model\n",
        "model = sm.OLS(y, constantAdd)\n",
        "\n",
        "# Fit Model and Show Results\n",
        "results = model.fit()\n",
        "print(results.summary())"
      ],
      "execution_count": 0,
      "outputs": []
    }
  ]
}