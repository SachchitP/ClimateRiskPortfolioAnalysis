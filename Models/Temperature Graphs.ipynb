{
  "nbformat": 4,
  "nbformat_minor": 0,
  "metadata": {
    "colab": {
      "name": "Dissertation",
      "version": "0.3.2",
      "provenance": []
    },
    "kernelspec": {
      "name": "python3",
      "display_name": "Python 3"
    }
  },
  "cells": [
    {
      "metadata": {
        "id": "PsRvgZrvVIlK",
        "colab_type": "code",
        "colab": {}
      },
      "cell_type": "code",
      "source": [
        "import numpy as np\n",
        "import pandas as pd\n",
        "import matplotlib.pyplot as plt\n",
        "%matplotlib inline\n",
        "import plotly.offline as py\n",
        "import plotly.graph_objs as go\n",
        "import plotly.tools as tls\n",
        "import seaborn as sns\n",
        "import io\n",
        "\n"
      ],
      "execution_count": 0,
      "outputs": []
    },
    {
      "metadata": {
        "id": "IfA005s4XsT_",
        "colab_type": "code",
        "colab": {}
      },
      "cell_type": "code",
      "source": [
        "from google.colab import files\n",
        "uploaded = files.upload()"
      ],
      "execution_count": 0,
      "outputs": []
    },
    {
      "metadata": {
        "id": "OsDO_vfGXpzS",
        "colab_type": "code",
        "colab": {}
      },
      "cell_type": "code",
      "source": [
        "data = uploaded['LAND TEMPERATURES FILE FROM KAGGLE IMPORT']\n",
        "\n",
        "inputData = pd.read_csv(io.BytesIO(data))\n",
        "\n",
        "#Process and Clean Data - from Kaggle DataSet \n",
        "\n",
        "countriesToClear = ['CHOOSE COUNTRIES']\n",
        "\n",
        "countriesToBeReplaced = ['CHOOSE COUNTRIES']\n",
        "\n",
        "countriedReplacedWith = ['CHOOSE REPLACEMENTS']\n",
        "\n",
        "cleanedCountries = inputData[~inputData['Country'].isin(countriesToClear)]\n",
        "\n",
        "cleanedCountries = cleanedCountries.replace(countriesToBeReplaced ,countriedReplacedWith)\n",
        "\n",
        "#Average Country Temperatures\n",
        "\n",
        "countries = np.unique(cleanedCountries['Country'])\n",
        "meanTemperatures = []\n",
        "for country in countries:\n",
        "    meanTempsByCountry = cleanedCountries[cleanedCountries['Country'] == country]['AverageTemperature'].mean()\n",
        "    meanTemperatures.append(meanTempsByCountry)\n",
        "\n",
        "meanTempBar, countryBar = (list(x) for x in zip(*sorted(zip(meanTemperatures, countries), reverse = True)))\n",
        "\n",
        "#Plot Graphs of Hottest and Coldest\n",
        "\n",
        "sns.set(font_scale=1) \n",
        "a,b = plt.subplots(figsize=(5, 10))\n",
        "sns.barplot(meanTempBar[:25], countryBar[:25], palette = sns.color_palette('coolwarm', len(countries))[::1])\n",
        "b.set(xlabel='Average temperature', title='Warmest 25 Countries')\n",
        "                                           \n",
        "sns.set(font_scale=1) \n",
        "a,b = plt.subplots(figsize=(5, 10))\n",
        "sns.barplot(meanTempBar[-25:], countryBar[-25:], palette = sns.color_palette('coolwarm', len(countries))[::1])\n",
        "b.set(xlabel='Average temperature', title='Coldest 25 Countries')"
      ],
      "execution_count": 0,
      "outputs": []
    },
    {
      "metadata": {
        "id": "K5N5FKTsatZI",
        "colab_type": "code",
        "colab": {}
      },
      "cell_type": "code",
      "source": [
        "# Combine Data Into Zipped List \n",
        "countriesToPlot = countryBar\n",
        "yAxis = np.arange(len(countriesToPlot))\n",
        "tempsToPlot = meanTempBar\n",
        "countries_zipped = list(zip(countryBar,meanTempBar))\n",
        "\n",
        "# Plot All Countries Mean Temperatures \n",
        "plt.bar(yAxis,tempsToPlot, align='center', alpha=0.5)\n",
        "plt.ylabel('Temperature / degrees celcius')\n",
        "plt.xlabel('Countries / country number')\n",
        "plt.title('Average Global Temperatures 1750-2013')\n",
        "plt.show()\n",
        "\n"
      ],
      "execution_count": 0,
      "outputs": []
    },
    {
      "metadata": {
        "id": "EeXY-QejinbL",
        "colab_type": "code",
        "colab": {}
      },
      "cell_type": "code",
      "source": [
        "# Cycle Through Each Country\n",
        "\n",
        "counter = 0  #\n",
        "for country in countries: \n",
        "  if counter < 10:\n",
        "    temperature = meanTempsByCountry = cleanedCountries[cleanedCountries['Country'] == country]['AverageTemperature'].tail(165).iloc[::12]\n",
        "    date = meanTempsByCountry = cleanedCountries[cleanedCountries['Country'] == country]['dt'].tail(165).iloc[::12]\n",
        "    plot(date,temperature)\n",
        "  \n",
        "# Plot Temperatures of Each Country Over A Year\n",
        "  xlabel('Time / Date ')\n",
        "  ylabel('Temperature / Degrees Celcius')\n",
        "  title(country)\n",
        "  plt.xticks(rotation=90)\n",
        "  grid(True)\n",
        "  show()"
      ],
      "execution_count": 0,
      "outputs": []
    }
  ]
}